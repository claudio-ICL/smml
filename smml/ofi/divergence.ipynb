{
 "cells": [
  {
   "cell_type": "code",
   "execution_count": 1,
   "id": "a9e5d110",
   "metadata": {},
   "outputs": [],
   "source": [
    "from smml.ofi import divergence\n",
    "from smml.ofi.divergence import Divergence\n",
    "from smml.ofi import data\n",
    "import datetime\n",
    "import numpy as np\n",
    "import matplotlib"
   ]
  },
  {
   "cell_type": "code",
   "execution_count": 2,
   "id": "b3b076f9",
   "metadata": {},
   "outputs": [],
   "source": [
    "intc_20120621 = data.lobster.LobsterDataIdentifier(\n",
    "    ticker='INTC',\n",
    "    date=datetime.date(2012, 6, 21),\n",
    "    levels=5,\n",
    "    file_type=data.lobster.LobsterFileType.ORDERBOOK,\n",
    ")\n",
    "aapl_20120621 = data.lobster.LobsterDataIdentifier(\n",
    "    ticker='AAPL',\n",
    "    date=datetime.date(2012, 6, 21),\n",
    "    levels=5,\n",
    "    file_type=data.lobster.LobsterFileType.ORDERBOOK,\n",
    ")\n",
    "msft_20120621 = data.lobster.LobsterDataIdentifier(\n",
    "    ticker='MSFT',\n",
    "    date=datetime.date(2012, 6, 21),\n",
    "    levels=5,\n",
    "    file_type=data.lobster.LobsterFileType.ORDERBOOK,\n",
    ")"
   ]
  },
  {
   "cell_type": "code",
   "execution_count": 3,
   "id": "23d9fa6d",
   "metadata": {},
   "outputs": [],
   "source": [
    "ldis = [intc_20120621, aapl_20120621, msft_20120621]"
   ]
  },
  {
   "cell_type": "code",
   "execution_count": 4,
   "id": "eb398749",
   "metadata": {},
   "outputs": [],
   "source": [
    "t0 = int(60e9)\n",
    "t1 = int((57600000 - 34200000 - 60)* 1e9)\n",
    "ewm_decay = .00055\n",
    "book_levels = 3\n",
    "include_volume_imbalance = True\n",
    "sigdegree = 4"
   ]
  },
  {
   "cell_type": "code",
   "execution_count": 5,
   "id": "eeb0712c",
   "metadata": {},
   "outputs": [],
   "source": [
    "bull_samples: data.samples.DivergenceSample = \\\n",
    "    data.samples.bull_only_signature_dataset(\n",
    "    ldis=ldis,\n",
    "    t0=t0,\n",
    "    t1=t1,\n",
    "    ewm_decay=ewm_decay,\n",
    "    book_levels=book_levels,\n",
    "    include_volume_imbalance=include_volume_imbalance,\n",
    "    sigdegree=sigdegree,\n",
    ")"
   ]
  },
  {
   "cell_type": "code",
   "execution_count": 6,
   "id": "934bb478",
   "metadata": {},
   "outputs": [],
   "source": [
    "bear_samples: data.samples.DivergenceSample = \\\n",
    "    data.samples.bear_only_signature_dataset(\n",
    "    ldis=ldis,\n",
    "    t0=t0,\n",
    "    t1=t1,\n",
    "    ewm_decay=ewm_decay,\n",
    "    book_levels=book_levels,\n",
    "    include_volume_imbalance=include_volume_imbalance,\n",
    "    sigdegree=sigdegree,\n",
    ")"
   ]
  },
  {
   "cell_type": "code",
   "execution_count": 7,
   "id": "d90887f6",
   "metadata": {},
   "outputs": [],
   "source": [
    "bb_samples: data.samples.DivergenceSample = \\\n",
    "    data.samples.bear_bull_signature_dataset(\n",
    "    ldis=ldis,\n",
    "    t0=t0,\n",
    "    t1=t1,\n",
    "    ewm_decay=ewm_decay,\n",
    "    book_levels=book_levels,\n",
    "    include_volume_imbalance=include_volume_imbalance,\n",
    "    sigdegree=sigdegree,\n",
    ")"
   ]
  },
  {
   "cell_type": "code",
   "execution_count": 8,
   "id": "0012a869",
   "metadata": {},
   "outputs": [],
   "source": [
    "learning_rate = 1e-3\n",
    "batch_size = 100\n",
    "shuffle = True\n",
    "num_of_epochs = 200\n",
    "verbose = False"
   ]
  },
  {
   "cell_type": "code",
   "execution_count": 9,
   "id": "e0ee31df",
   "metadata": {},
   "outputs": [],
   "source": [
    "bear_div: Divergence = Divergence(\n",
    "    dataset=bear_samples,\n",
    "    empirical_sample_size=150,\n",
    ")"
   ]
  },
  {
   "cell_type": "code",
   "execution_count": 10,
   "id": "81b31989",
   "metadata": {},
   "outputs": [],
   "source": [
    "bear_div.train(\n",
    "    learning_rate=learning_rate,\n",
    "    batch_size=batch_size,\n",
    "    shuffle=shuffle,\n",
    "    num_of_epochs=num_of_epochs,\n",
    "    verbose=verbose,\n",
    ")"
   ]
  },
  {
   "cell_type": "code",
   "execution_count": 11,
   "id": "ee027836",
   "metadata": {},
   "outputs": [
    {
     "name": "stdout",
     "output_type": "stream",
     "text": [
      "Estimated divergence (bear market): 0.000381476700339849\n"
     ]
    }
   ],
   "source": [
    "bear_div_estimate = np.median([bear_div() for _ in range(100)])\n",
    "print(f'Estimated divergence (bear market): {bear_div_estimate}')"
   ]
  },
  {
   "cell_type": "code",
   "execution_count": 12,
   "id": "18cb9f9f",
   "metadata": {},
   "outputs": [],
   "source": [
    "bull_div: Divergence = Divergence(\n",
    "    dataset=bull_samples,\n",
    "    empirical_sample_size=150,\n",
    ")"
   ]
  },
  {
   "cell_type": "code",
   "execution_count": 13,
   "id": "7b9e0395",
   "metadata": {},
   "outputs": [],
   "source": [
    "bull_div.train(\n",
    "    learning_rate=learning_rate,\n",
    "    batch_size=batch_size,\n",
    "    shuffle=shuffle,\n",
    "    num_of_epochs=num_of_epochs,\n",
    "    verbose=verbose,\n",
    ")"
   ]
  },
  {
   "cell_type": "code",
   "execution_count": 14,
   "id": "01099fc7",
   "metadata": {},
   "outputs": [
    {
     "name": "stdout",
     "output_type": "stream",
     "text": [
      "Estimated divergence (bull market): 0.00031591338804817445\n"
     ]
    }
   ],
   "source": [
    "bull_div_estimate = np.median([bull_div() for _ in range(100)])\n",
    "print(f'Estimated divergence (bull market): {bull_div_estimate}')"
   ]
  },
  {
   "cell_type": "code",
   "execution_count": 15,
   "id": "6147155b",
   "metadata": {},
   "outputs": [],
   "source": [
    "bb_div: Divergence = Divergence(\n",
    "    dataset=bb_samples,\n",
    "    empirical_sample_size=150,\n",
    ")"
   ]
  },
  {
   "cell_type": "code",
   "execution_count": 16,
   "id": "1a79b677",
   "metadata": {},
   "outputs": [],
   "source": [
    "bb_div.train(\n",
    "    learning_rate=learning_rate,\n",
    "    batch_size=batch_size,\n",
    "    shuffle=shuffle,\n",
    "    num_of_epochs=num_of_epochs,\n",
    "    verbose=verbose,\n",
    ")"
   ]
  },
  {
   "cell_type": "code",
   "execution_count": 17,
   "id": "357161f5",
   "metadata": {},
   "outputs": [
    {
     "name": "stdout",
     "output_type": "stream",
     "text": [
      "Estimated divergence (bear v. bull market): 0.11039558704678297\n"
     ]
    }
   ],
   "source": [
    "bb_div_estimate = np.median([bb_div() for _ in range(100)])\n",
    "print(f'Estimated divergence (bear v. bull market): {bb_div_estimate}')"
   ]
  }
 ],
 "metadata": {
  "kernelspec": {
   "display_name": "smml",
   "language": "python",
   "name": "smml"
  },
  "language_info": {
   "codemirror_mode": {
    "name": "ipython",
    "version": 3
   },
   "file_extension": ".py",
   "mimetype": "text/x-python",
   "name": "python",
   "nbconvert_exporter": "python",
   "pygments_lexer": "ipython3",
   "version": "3.10.6"
  }
 },
 "nbformat": 4,
 "nbformat_minor": 5
}
